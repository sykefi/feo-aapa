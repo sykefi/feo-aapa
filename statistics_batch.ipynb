{
 "cells": [
  {
   "cell_type": "markdown",
   "id": "e636e088",
   "metadata": {},
   "source": [
    "# Retrieval of classification results from Sentinel-2 L2A data\n",
    "\n",
    "This notebook demonstrates the retrieval of region-wise time-series of aapa-mire classification data with Sentinel Hub Statistical Batch API \n",
    "\n",
    "Postprocessing of the raw result data is demonstsrated in notebook [postprocessing.ipynb](postprocessing.ipynb) \n",
    "\n",
    "Based on sentinelhub-py tutorial example: https://sentinelhub-py.readthedocs.io/en/latest/examples/batch_statistical.html#"
   ]
  },
  {
   "cell_type": "code",
   "execution_count": 2,
   "id": "202ed1c0",
   "metadata": {},
   "outputs": [],
   "source": [
    "%matplotlib inline\n",
    "\n",
    "import logging\n",
    "import json\n",
    "\n",
    "import aapamires\n",
    "\n",
    "from sentinelhub import (\n",
    "    DataCollection,\n",
    "    SentinelHubBatchStatistical,\n",
    "    SentinelHubStatistical,\n",
    "    SHConfig,\n",
    "    monitor_batch_statistical_job,\n",
    ")\n",
    "\n",
    "from sentinelhub.data_utils import get_failed_statistical_requests, statistical_to_dataframe\n",
    "\n",
    "\n",
    "logging.basicConfig(level=logging.INFO)\n"
   ]
  },
  {
   "cell_type": "code",
   "execution_count": 3,
   "id": "c2ce551a",
   "metadata": {},
   "outputs": [],
   "source": [
    "def build_request(input_data, inputparcels, output, evalscript, calculations,\n",
    "                  resolution, timefrom, timeto, config, interval = \"P1D\"):\n",
    "    \"\"\" Build API request \"\"\"\n",
    "    \n",
    "    input_features = SentinelHubBatchStatistical.s3_specification(inputparcels, \n",
    "                                                                    config.aws_access_key_id, \n",
    "                                                                    config.aws_secret_access_key)\n",
    "\n",
    "    output_s3 = SentinelHubBatchStatistical.s3_specification(output, \n",
    "                                                            config.aws_access_key_id, \n",
    "                                                            config.aws_secret_access_key)\n",
    "\n",
    "    # Data processing\n",
    "    aggregation = SentinelHubStatistical.aggregation(\n",
    "        evalscript = evalscript,\n",
    "        time_interval = (timefrom, timeto),\n",
    "        aggregation_interval = interval,\n",
    "        resolution = (resolution, resolution),\n",
    "    )\n",
    "    request = client.create(\n",
    "        input_features = input_features,\n",
    "        input_data = input_data,\n",
    "        aggregation = aggregation,\n",
    "        calculations = calculations,\n",
    "        output = output_s3,\n",
    "    )\n",
    "    return request\n"
   ]
  },
  {
   "cell_type": "markdown",
   "id": "11701d22",
   "metadata": {},
   "source": [
    "## Set up enviroment and sentinelhub client\n",
    "\n",
    "Import sentinelhub configuration from local file instead of default in module folder\n",
    "\n",
    "Modify and rename [config.json.template](config.json.template) to *config.json*\n",
    "\n",
    "To set proxies, modify and rename [proxies.ini.template](proxies.ini.template) to *proxies.ini* "
   ]
  },
  {
   "cell_type": "code",
   "execution_count": 3,
   "id": "cf498366",
   "metadata": {},
   "outputs": [],
   "source": [
    "aapamires.setproxies()\n",
    "config = aapamires.import_sh_config('config.json')\n",
    "client = SentinelHubBatchStatistical(config)"
   ]
  },
  {
   "cell_type": "code",
   "execution_count": 4,
   "id": "ba31ddb4",
   "metadata": {},
   "outputs": [],
   "source": [
    "# Object storage, bucket access must be configured as described here\n",
    "# https://docs.sentinel-hub.com/api/latest/api/batch-statistical/#aws-bucket-access \n",
    "bucket_name = 's3://<mybucket>/'\n",
    "parcel_path = bucket_name + \"parcels/\"\n",
    "target_path = 'aapamire-demo/'"
   ]
  },
  {
   "cell_type": "markdown",
   "id": "4350bb5f",
   "metadata": {},
   "source": [
    "## Common processing parameters for all region types"
   ]
  },
  {
   "cell_type": "code",
   "execution_count": 5,
   "id": "4d64a705",
   "metadata": {},
   "outputs": [],
   "source": [
    "# Input dataset\n",
    "maxCloudCoverage = 0.8 # Skip all tiles where the cloud cover is greater than this value\n",
    "dataType = DataCollection.SENTINEL2_L2A\n",
    "input_data = [SentinelHubStatistical.input_data(dataType, maxcc = maxCloudCoverage)]\n",
    "\n",
    "# Processing resolutions in meters\n",
    "cloud_resolution = 100 \n",
    "resolution = 10 \n",
    "resolution_over_1km = 20 \n",
    "\n",
    "# Temporal extent for this run\n",
    "year = '2020'\n",
    "timefrom = year+\"-07-01T00:00:00Z\"\n",
    "timeto =  year+\"-07-30T00:00:00Z\""
   ]
  },
  {
   "cell_type": "markdown",
   "id": "7e495d29",
   "metadata": {},
   "source": [
    "## Processing of L2A data is defined in local evalscripts \n",
    "\n",
    "\n",
    "Cloud maskig <a href=\"./js/sumi-cloudmask-evalscript.js\">sumi-cloudmask-evalscript.js</a>\n",
    "\n",
    "Classification <a href=\"./js/sumi-statistics-evalscript.js\">sumi-statistics-evalscript.js</a>"
   ]
  },
  {
   "cell_type": "code",
   "execution_count": 6,
   "id": "26334c2b",
   "metadata": {},
   "outputs": [],
   "source": [
    "cloud_evalscript_file  = r'./js/sumi-cloudmask-evalscript.js'\n",
    "classification_evalscript_file  = r'./js/sumi-statistics-evalscript.js'\n",
    "\n",
    "with open(cloud_evalscript_file, \"r\") as f:\n",
    "        cloud_evalscript = f.read()\n",
    "with open(classification_evalscript_file, \"r\") as f:\n",
    "        classification_evalscript = f.read() "
   ]
  },
  {
   "cell_type": "markdown",
   "id": "c0cf4621",
   "metadata": {},
   "source": [
    "## First query cloud coverage for mire boundingboxes\n",
    "\n",
    "Create request"
   ]
  },
  {
   "cell_type": "code",
   "execution_count": 9,
   "id": "2ee04625",
   "metadata": {},
   "outputs": [
    {
     "data": {
      "text/plain": [
       "BatchStatisticalRequest(\n",
       "  request_id=14460e13-cbd0-4c6a-8ac8-9b44eb4ea697\n",
       "  created=2023-01-27 10:40:41.015193+00:00\n",
       "  status=BatchRequestStatus.CREATED\n",
       "  user_action=BatchUserAction.NONE\n",
       "  cost_pu=0.0\n",
       "  completion_percentage=0\n",
       "  ...\n",
       ")"
      ]
     },
     "execution_count": 9,
     "metadata": {},
     "output_type": "execute_result"
    }
   ],
   "source": [
    "cloud_parcel_file = \"avo10ha_vkulkuiset_32635_shub_BoundingBoxes.gpkg\" \n",
    "cloud_input_parcels = parcel_path + cloud_parcel_file\n",
    "# Write results directly under given bucket without request-id\n",
    "cloud_output = bucket_name + target_path + cloud_parcel_file + '/clouds/' + year + '/<ID>.json'\n",
    "cloud_calculations = aapamires.cloudmask_calculations()\n",
    "cloud_request = build_request(input_data, \n",
    "                              cloud_input_parcels, \n",
    "                              cloud_output, \n",
    "                              cloud_evalscript, \n",
    "                              cloud_calculations,\n",
    "                              cloud_resolution, \n",
    "                              timefrom, \n",
    "                              timeto, \n",
    "                              config)\n",
    "cloud_request"
   ]
  },
  {
   "cell_type": "markdown",
   "id": "987ecb17",
   "metadata": {},
   "source": [
    "Start and wait for completion"
   ]
  },
  {
   "cell_type": "code",
   "execution_count": 10,
   "id": "2d811dcb",
   "metadata": {},
   "outputs": [
    {
     "name": "stderr",
     "output_type": "stream",
     "text": [
      "INFO:sentinelhub.api.batch.utils:Batch job has a status CREATED, sleeping for 60 seconds\n",
      "INFO:sentinelhub.api.batch.utils:Batch job has a status CREATED, sleeping for 60 seconds\n",
      "INFO:sentinelhub.api.batch.utils:Batch job has a status CREATED, sleeping for 60 seconds\n",
      "INFO:sentinelhub.api.batch.utils:Batch job has a status CREATED, sleeping for 60 seconds\n",
      "INFO:sentinelhub.api.batch.utils:Batch job has a status CREATED, sleeping for 60 seconds\n",
      "INFO:sentinelhub.api.batch.utils:Batch job has a status ANALYSING, sleeping for 60 seconds\n",
      "INFO:sentinelhub.api.batch.utils:Batch job has a status ANALYSING, sleeping for 60 seconds\n",
      "INFO:sentinelhub.api.batch.utils:Batch job is running\n",
      "Completion percentage: 100%|█████████████████████████████████████████████████████████| 100/100 [09:12<00:00,  5.53s/it]\n"
     ]
    },
    {
     "data": {
      "text/plain": [
       "{'id': '14460e13-cbd0-4c6a-8ac8-9b44eb4ea697',\n",
       " 'status': 'DONE',\n",
       " 'completionPercentage': 100,\n",
       " 'lastUpdated': '2023-01-27T10:56:40.033128Z',\n",
       " 'costPU': 974.3274129686966,\n",
       " 'created': '2023-01-27T10:40:41.015193Z'}"
      ]
     },
     "execution_count": 10,
     "metadata": {},
     "output_type": "execute_result"
    }
   ],
   "source": [
    "client.start_job(cloud_request)\n",
    "monitor_batch_statistical_job(cloud_request, config=config, analysis_sleep_time=60)"
   ]
  },
  {
   "cell_type": "markdown",
   "id": "f4a67c34",
   "metadata": {},
   "source": [
    "## Classification of the small aapa-mires dataset (under 1km$^2$) in 10m resolution"
   ]
  },
  {
   "cell_type": "code",
   "execution_count": 12,
   "id": "427945cb",
   "metadata": {},
   "outputs": [],
   "source": [
    "parcel_file = \"avo10ha_vkulkuiset_32635_shub_under1km2.gpkg\" \n",
    "parcels = parcel_path + parcel_file\n",
    "output = bucket_name + target_path + parcel_file + '/stats/' + year +  '/<ID>.json'\n",
    "calculations = aapamires.statistics_calculations()\n",
    "request = build_request(input_data, \n",
    "                        parcels, \n",
    "                        output, \n",
    "                        classification_evalscript, \n",
    "                        calculations,\n",
    "                        resolution, \n",
    "                        timefrom, \n",
    "                        timeto, \n",
    "                        config)"
   ]
  },
  {
   "cell_type": "code",
   "execution_count": 13,
   "id": "780b74ac",
   "metadata": {},
   "outputs": [
    {
     "name": "stderr",
     "output_type": "stream",
     "text": [
      "INFO:sentinelhub.api.batch.utils:Batch job has a status CREATED, sleeping for 60 seconds\n",
      "INFO:sentinelhub.api.batch.utils:Batch job has a status ANALYSING, sleeping for 60 seconds\n",
      "INFO:sentinelhub.api.batch.utils:Batch job has a status ANALYSING, sleeping for 60 seconds\n",
      "INFO:sentinelhub.api.batch.utils:Batch job is running\n",
      "Completion percentage: 100%|█████████████████████████████████████████████████████████| 100/100 [13:49<00:00,  8.29s/it]\n"
     ]
    },
    {
     "data": {
      "text/plain": [
       "{'id': 'cd5eec0e-c025-46a4-b33d-91866d3288b9',\n",
       " 'status': 'PROCESSING',\n",
       " 'completionPercentage': 100,\n",
       " 'lastUpdated': '2023-01-27T11:14:27.498921Z',\n",
       " 'costPU': 8801.380502381302,\n",
       " 'created': '2023-01-27T10:57:40.482053Z'}"
      ]
     },
     "execution_count": 13,
     "metadata": {},
     "output_type": "execute_result"
    }
   ],
   "source": [
    "client.start_job(request)\n",
    "monitor_batch_statistical_job(request, config=config, analysis_sleep_time=60)"
   ]
  },
  {
   "cell_type": "markdown",
   "id": "4a573269",
   "metadata": {},
   "source": [
    "## Classification of the large aapa-mires dataset (over 1km$^2$) in 20m resolution"
   ]
  },
  {
   "cell_type": "code",
   "execution_count": 16,
   "id": "40d1e7ca",
   "metadata": {},
   "outputs": [],
   "source": [
    "parcel_file_over_1km=\"avo10ha_vkulkuiset_32635_shub_over1km2.gpkg\" \n",
    "parcels_over_1km = parcel_path + parcel_file_over_1km\n",
    "output_over_1km = bucket_name + target_path + parcel_file_over_1km + '/stats/' + year + '/<ID>.json'\n",
    "request_over_1km = build_request(input_data, \n",
    "                                 parcels_over_1km, \n",
    "                                 output_over_1km, \n",
    "                                 classification_evalscript, \n",
    "                                 calculations,\n",
    "                                 resolution_over_1km, \n",
    "                                 timefrom, \n",
    "                                 timeto, \n",
    "                                 config)"
   ]
  },
  {
   "cell_type": "code",
   "execution_count": 17,
   "id": "ed21d04c",
   "metadata": {},
   "outputs": [
    {
     "name": "stderr",
     "output_type": "stream",
     "text": [
      "INFO:sentinelhub.api.batch.utils:Batch job has a status CREATED, sleeping for 60 seconds\n",
      "INFO:sentinelhub.api.batch.utils:Batch job has a status ANALYSING, sleeping for 60 seconds\n",
      "INFO:sentinelhub.api.batch.utils:Batch job is running\n",
      "Completion percentage: 100%|█████████████████████████████████████████████████████████| 100/100 [21:00<00:00, 12.60s/it]\n"
     ]
    },
    {
     "data": {
      "text/plain": [
       "{'id': 'c02a17a2-6a55-4825-b7fc-34d28a67bacf',\n",
       " 'status': 'DONE',\n",
       " 'completionPercentage': 100,\n",
       " 'lastUpdated': '2023-01-27T11:42:17.325158Z',\n",
       " 'costPU': 4470.507035184571,\n",
       " 'created': '2023-01-27T11:19:33.856842Z'}"
      ]
     },
     "execution_count": 17,
     "metadata": {},
     "output_type": "execute_result"
    }
   ],
   "source": [
    "client.start_job(request_over_1km)\n",
    "monitor_batch_statistical_job(request_over_1km, config=config, analysis_sleep_time=60)"
   ]
  },
  {
   "cell_type": "markdown",
   "id": "088b7176",
   "metadata": {},
   "source": [
    "\n",
    "## Results can be retrieved from AWS S3 bucket with external tools (s3cmd, aws-cli) \n",
    "\n",
    "For example aws --profile myprofile s3 sync s3://\\<mybucket\\> .\n",
    "\n",
    "Postprocessing of the complete dataset is demonstrated in [postprocessing.ipynb](postprocessing.ipynb)\n"
   ]
  },
  {
   "cell_type": "code",
   "execution_count": null,
   "id": "448264b3",
   "metadata": {},
   "outputs": [],
   "source": []
  }
 ],
 "metadata": {
  "kernelspec": {
   "display_name": "Python [conda env:shub2]",
   "language": "python",
   "name": "conda-env-shub2-py"
  },
  "language_info": {
   "codemirror_mode": {
    "name": "ipython",
    "version": 3
   },
   "file_extension": ".py",
   "mimetype": "text/x-python",
   "name": "python",
   "nbconvert_exporter": "python",
   "pygments_lexer": "ipython3",
   "version": "3.7.12"
  },
  "vscode": {
   "interpreter": {
    "hash": "3b87de0ce6c327f46c8448cd48d8994b835fd975a63536557fa987a03d275495"
   }
  }
 },
 "nbformat": 4,
 "nbformat_minor": 5
}
