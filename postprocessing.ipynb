{
 "cells": [
  {
   "cell_type": "markdown",
   "id": "5c2f59f4",
   "metadata": {},
   "source": [
    "# Postprocessing of the Sentinel-hub statistical API results\n",
    "\n",
    "This notebook demonstrates how to convert json-responses to pandas-compatible csv and how to to coombine data from cloud coverage runs with the regional statistics.\n",
    "\n",
    "Converters and data handlers are given in [aapamires.py](aapamires.py)\n"
   ]
  },
  {
   "cell_type": "code",
   "execution_count": 2,
   "id": "59234967",
   "metadata": {},
   "outputs": [],
   "source": [
    "import glob\n",
    "import os\n",
    "import json\n",
    "import pandas as pd \n",
    "import aapamires"
   ]
  },
  {
   "cell_type": "markdown",
   "id": "bc753fc6",
   "metadata": {},
   "source": [
    "## Input data"
   ]
  },
  {
   "cell_type": "code",
   "execution_count": 3,
   "id": "a9ecb9d2",
   "metadata": {},
   "outputs": [],
   "source": [
    "g_small = glob.glob(r'./avo10ha_vkulkuiset_32635_shub_under1km2.gpkg/stats/2020/*.json')\n",
    "g_large = glob.glob(r'./avo10ha_vkulkuiset_32635_shub_over1km2.gpkg/stats/2020/*.json')\n",
    "stats_target  = r'./stats/2020'\n",
    "src_clouds = r'./avo10ha_vkulkuiset_32635_shub_BoundingBoxes.gpkg/clouds/2020'\n",
    "os.makedirs(stats_target,exist_ok=True)"
   ]
  },
  {
   "cell_type": "code",
   "execution_count": 4,
   "id": "ece8f404",
   "metadata": {},
   "outputs": [
    {
     "name": "stdout",
     "output_type": "stream",
     "text": [
      "Tried to import empty result!\n",
      "Tried to import empty result!\n"
     ]
    }
   ],
   "source": [
    "# Convert each region to dataframe separately and save as csv\n",
    "for f in g_small + g_large:\n",
    "    with open(f, 'r') as fin:\n",
    "        batch_result = json.load(fin)\n",
    "    thisdf = aapamires.sumi_batch_response_to_df(batch_result)\n",
    "    fname = os.path.splitext(os.path.basename(f))[0]\n",
    "    target_csv = os.path.join(stats_target,fname+'.csv')  \n",
    "    \n",
    "    if thisdf is not None:\n",
    "        # Find corrsponding BB cloud coverage data and merge it to the statistics\n",
    "        g_cloud = glob.glob(os.path.join(src_clouds,os.path.split(f)[1]))\n",
    "        cloudf = g_cloud[0]\n",
    "        with open(cloudf, 'r') as cin:\n",
    "            cloud_result = json.load(cin)\n",
    "        cloud_df =  aapamires.sumi_clouds_response_to_df(cloud_result)\n",
    "        bb_cloud = (cloud_df.loc[:, ['date', 'cloudcoverage']]).set_index('date').rename(columns={'cloudcoverage':'BBcloudcoverage'})\n",
    "        thisdf = thisdf.set_index('date').join(bb_cloud)     \n",
    "        thisdf.to_csv(target_csv)        \n",
    "    else:\n",
    "        with open(target_csv+'.failed','w') as f:\n",
    "            f.write('Import failed!')\n",
    "            f.write(json.dumps(batch_result, indent=4))        \n",
    "\n"
   ]
  },
  {
   "cell_type": "code",
   "execution_count": null,
   "id": "c72807ab",
   "metadata": {},
   "outputs": [],
   "source": []
  }
 ],
 "metadata": {
  "kernelspec": {
   "display_name": "Python [conda env:shub2]",
   "language": "python",
   "name": "conda-env-shub2-py"
  },
  "language_info": {
   "codemirror_mode": {
    "name": "ipython",
    "version": 3
   },
   "file_extension": ".py",
   "mimetype": "text/x-python",
   "name": "python",
   "nbconvert_exporter": "python",
   "pygments_lexer": "ipython3",
   "version": "3.7.12"
  },
  "vscode": {
   "interpreter": {
    "hash": "3b87de0ce6c327f46c8448cd48d8994b835fd975a63536557fa987a03d275495"
   }
  }
 },
 "nbformat": 4,
 "nbformat_minor": 5
}
